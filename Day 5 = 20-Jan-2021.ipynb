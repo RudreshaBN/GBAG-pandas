{
 "cells": [
  {
   "cell_type": "code",
   "execution_count": 1,
   "metadata": {},
   "outputs": [],
   "source": [
    "import pandas as pd"
   ]
  },
  {
   "cell_type": "code",
   "execution_count": 2,
   "metadata": {},
   "outputs": [],
   "source": [
    "pokemon=pd.read_csv('pokemon.csv',usecols=['Pokemon'],squeeze=True)"
   ]
  },
  {
   "cell_type": "code",
   "execution_count": 3,
   "metadata": {},
   "outputs": [
    {
     "data": {
      "text/plain": [
       "['Zygarde',\n",
       " 'Zweilous',\n",
       " 'Zubat',\n",
       " 'Zorua',\n",
       " 'Zoroark',\n",
       " 'Zigzagoon',\n",
       " 'Zekrom',\n",
       " 'Zebstrika',\n",
       " 'Zapdos',\n",
       " 'Zangoose',\n",
       " 'Yveltal',\n",
       " 'Yanmega',\n",
       " 'Yanma',\n",
       " 'Yamask',\n",
       " 'Xerneas',\n",
       " 'Xatu',\n",
       " 'Wynaut',\n",
       " 'Wurmple',\n",
       " 'Wormadam',\n",
       " 'Wooper',\n",
       " 'Woobat',\n",
       " 'Wobbuffet',\n",
       " 'Wingull',\n",
       " 'Wigglytuff',\n",
       " 'Whismur',\n",
       " 'Whiscash',\n",
       " 'Whirlipede',\n",
       " 'Whimsicott',\n",
       " 'Weezing',\n",
       " 'Weepinbell',\n",
       " 'Weedle',\n",
       " 'Weavile',\n",
       " 'Watchog',\n",
       " 'Wartortle',\n",
       " 'Walrein',\n",
       " 'Wailord',\n",
       " 'Wailmer',\n",
       " 'Vulpix',\n",
       " 'Vullaby',\n",
       " 'Voltorb',\n",
       " 'Volcarona',\n",
       " 'Volcanion',\n",
       " 'Volbeat',\n",
       " 'Vivillon',\n",
       " 'Virizion',\n",
       " 'Vileplume',\n",
       " 'Vigoroth',\n",
       " 'Victreebel',\n",
       " 'Victini',\n",
       " 'Vibrava',\n",
       " 'Vespiquen',\n",
       " 'Venusaur',\n",
       " 'Venonat',\n",
       " 'Venomoth',\n",
       " 'Venipede',\n",
       " 'Vaporeon',\n",
       " 'Vanilluxe',\n",
       " 'Vanillite',\n",
       " 'Vanillish',\n",
       " 'Uxie',\n",
       " 'Ursaring',\n",
       " 'Unown',\n",
       " 'Unfezant',\n",
       " 'Umbreon',\n",
       " 'Tyrunt',\n",
       " 'Tyrogue',\n",
       " 'Tyrantrum',\n",
       " 'Tyranitar',\n",
       " 'Typhlosion',\n",
       " 'Tynamo',\n",
       " 'Tympole',\n",
       " 'Turtwig',\n",
       " 'Trubbish',\n",
       " 'Tropius',\n",
       " 'Trevenant',\n",
       " 'Treecko',\n",
       " 'Trapinch',\n",
       " 'Tranquill',\n",
       " 'Toxicroak',\n",
       " 'Totodile',\n",
       " 'Torterra',\n",
       " 'Tornadus',\n",
       " 'Torkoal',\n",
       " 'Torchic',\n",
       " 'Togetic',\n",
       " 'Togepi',\n",
       " 'Togekiss',\n",
       " 'Tirtouga',\n",
       " 'Timburr',\n",
       " 'Thundurus',\n",
       " 'Throh',\n",
       " 'Terrakion',\n",
       " 'Tepig',\n",
       " 'Tentacruel',\n",
       " 'Tentacool',\n",
       " 'Teddiursa',\n",
       " 'Tauros',\n",
       " 'Tangrowth',\n",
       " 'Tangela',\n",
       " 'Talonflame',\n",
       " 'Taillow',\n",
       " 'Sylveon',\n",
       " 'Swoobat',\n",
       " 'Swirlix',\n",
       " 'Swinub',\n",
       " 'Swellow',\n",
       " 'Swanna',\n",
       " 'Swampert',\n",
       " 'Swalot',\n",
       " 'Swadloon',\n",
       " 'Swablu',\n",
       " 'Surskit',\n",
       " 'Sunkern',\n",
       " 'Sunflora',\n",
       " 'Suicune',\n",
       " 'Sudowoodo',\n",
       " 'Stunky',\n",
       " 'Stunfisk',\n",
       " 'Stoutland',\n",
       " 'Steelix',\n",
       " 'Staryu',\n",
       " 'Starmie',\n",
       " 'Starly',\n",
       " 'Staravia',\n",
       " 'Staraptor',\n",
       " 'Stantler',\n",
       " 'Squirtle',\n",
       " 'Spritzee',\n",
       " 'Spoink',\n",
       " 'Spiritomb',\n",
       " 'Spinda',\n",
       " 'Spinarak',\n",
       " 'Spheal',\n",
       " 'Spewpa',\n",
       " 'Spearow',\n",
       " 'Solrock',\n",
       " 'Solosis',\n",
       " 'Snubbull',\n",
       " 'Snover',\n",
       " 'Snorunt',\n",
       " 'Snorlax',\n",
       " 'Snivy',\n",
       " 'Sneasel',\n",
       " 'Smoochum',\n",
       " 'Smeargle',\n",
       " 'Slurpuff',\n",
       " 'Slugma',\n",
       " 'Slowpoke',\n",
       " 'Slowking',\n",
       " 'Slowbro',\n",
       " 'Sliggoo',\n",
       " 'Slakoth',\n",
       " 'Slaking',\n",
       " 'Skuntank',\n",
       " 'Skrelp',\n",
       " 'Skorupi',\n",
       " 'Skitty',\n",
       " 'Skiploom',\n",
       " 'Skiddo',\n",
       " 'Skarmory',\n",
       " 'Simisear',\n",
       " 'Simisage',\n",
       " 'Simipour',\n",
       " 'Silcoon',\n",
       " 'Sigilyph',\n",
       " 'Shuppet',\n",
       " 'Shuckle',\n",
       " 'Shroomish',\n",
       " 'Shinx',\n",
       " 'Shiftry',\n",
       " 'Shieldon',\n",
       " 'Shelmet',\n",
       " 'Shellos',\n",
       " 'Shellder',\n",
       " 'Shelgon',\n",
       " 'Shedinja',\n",
       " 'Shaymin',\n",
       " 'Sharpedo',\n",
       " 'Sewaddle',\n",
       " 'Seviper',\n",
       " 'Servine',\n",
       " 'Serperior',\n",
       " 'Sentret',\n",
       " 'Seismitoad',\n",
       " 'Seel',\n",
       " 'Seedot',\n",
       " 'Sealeo',\n",
       " 'Seaking',\n",
       " 'Seadra',\n",
       " 'Scyther',\n",
       " 'Scraggy',\n",
       " 'Scrafty',\n",
       " 'Scolipede',\n",
       " 'Scizor',\n",
       " 'Sceptile',\n",
       " 'Scatterbug',\n",
       " 'Sawsbuck',\n",
       " 'Sawk',\n",
       " 'Sandslash',\n",
       " 'Sandshrew',\n",
       " 'Sandile',\n",
       " 'Samurott',\n",
       " 'Salamence',\n",
       " 'Sableye',\n",
       " 'Rufflet',\n",
       " 'Rotom',\n",
       " 'Roserade',\n",
       " 'Roselia',\n",
       " 'Roggenrola',\n",
       " 'Riolu',\n",
       " 'Rhyperior',\n",
       " 'Rhyhorn',\n",
       " 'Rhydon',\n",
       " 'Reuniclus',\n",
       " 'Reshiram',\n",
       " 'Remoraid',\n",
       " 'Relicanth',\n",
       " 'Registeel',\n",
       " 'Regirock',\n",
       " 'Regigigas',\n",
       " 'Regice',\n",
       " 'Rayquaza',\n",
       " 'Rattata',\n",
       " 'Raticate',\n",
       " 'Rapidash',\n",
       " 'Rampardos',\n",
       " 'Ralts',\n",
       " 'Raikou',\n",
       " 'Raichu',\n",
       " 'Qwilfish',\n",
       " 'Quilladin',\n",
       " 'Quilava',\n",
       " 'Quagsire',\n",
       " 'Pyroar',\n",
       " 'Purugly',\n",
       " 'Purrloin',\n",
       " 'Pupitar',\n",
       " 'Pumpkaboo',\n",
       " 'Psyduck',\n",
       " 'Probopass',\n",
       " 'Prinplup',\n",
       " 'Primeape',\n",
       " 'Porygon2',\n",
       " 'Porygon-Z',\n",
       " 'Porygon',\n",
       " 'Poochyena',\n",
       " 'Ponyta',\n",
       " 'Poliwrath',\n",
       " 'Poliwhirl',\n",
       " 'Poliwag',\n",
       " 'Politoed',\n",
       " 'Plusle',\n",
       " 'Piplup',\n",
       " 'Pinsir',\n",
       " 'Pineco',\n",
       " 'Piloswine',\n",
       " 'Pikachu',\n",
       " 'Pignite',\n",
       " 'Pidove',\n",
       " 'Pidgey',\n",
       " 'Pidgeotto',\n",
       " 'Pidgeot',\n",
       " 'Pichu',\n",
       " 'Phione',\n",
       " 'Phantump',\n",
       " 'Phanpy',\n",
       " 'Petilil',\n",
       " 'Persian',\n",
       " 'Pelipper',\n",
       " 'Pawniard',\n",
       " 'Patrat',\n",
       " 'Parasect',\n",
       " 'Paras',\n",
       " 'Pansear',\n",
       " 'Pansage',\n",
       " 'Panpour',\n",
       " 'Pangoro',\n",
       " 'Pancham',\n",
       " 'Palpitoad',\n",
       " 'Palkia',\n",
       " 'Pachirisu',\n",
       " 'Oshawott',\n",
       " 'Onix',\n",
       " 'Omastar',\n",
       " 'Omanyte',\n",
       " 'Oddish',\n",
       " 'Octillery',\n",
       " 'Nuzleaf',\n",
       " 'Numel',\n",
       " 'Nosepass',\n",
       " 'Noivern',\n",
       " 'Noibat',\n",
       " 'Noctowl',\n",
       " 'Ninjask',\n",
       " 'Ninetales',\n",
       " 'Nincada',\n",
       " 'Nidorino',\n",
       " 'Nidorina',\n",
       " 'Nidoran♂',\n",
       " 'Nidoran',\n",
       " 'Nidoqueen',\n",
       " 'Nidoking',\n",
       " 'Natu',\n",
       " 'Musharna',\n",
       " 'Murkrow',\n",
       " 'Munna',\n",
       " 'Munchlax',\n",
       " 'Muk',\n",
       " 'Mudkip',\n",
       " 'Mr. Mime',\n",
       " 'Mothim',\n",
       " 'Monferno',\n",
       " 'Moltres',\n",
       " 'Mismagius',\n",
       " 'Misdreavus',\n",
       " 'Minun',\n",
       " 'Minccino',\n",
       " 'Mime Jr.',\n",
       " 'Miltank',\n",
       " 'Milotic',\n",
       " 'Mightyena',\n",
       " 'Mienshao',\n",
       " 'Mienfoo',\n",
       " 'Mewtwo',\n",
       " 'Mew',\n",
       " 'Metapod',\n",
       " 'Metang',\n",
       " 'Metagross',\n",
       " 'Mesprit',\n",
       " 'Meowth',\n",
       " 'Meowstic',\n",
       " 'Meloetta',\n",
       " 'Meganium',\n",
       " 'Meditite',\n",
       " 'Medicham',\n",
       " 'Mawile',\n",
       " 'Masquerain',\n",
       " 'Marshtomp',\n",
       " 'Marowak',\n",
       " 'Marill',\n",
       " 'Mareep',\n",
       " 'Maractus',\n",
       " 'Mantyke',\n",
       " 'Mantine',\n",
       " 'Mankey',\n",
       " 'Manectric',\n",
       " 'Mandibuzz',\n",
       " 'Manaphy',\n",
       " 'Mamoswine',\n",
       " 'Malamar',\n",
       " 'Makuhita',\n",
       " 'Magnezone',\n",
       " 'Magneton',\n",
       " 'Magnemite',\n",
       " 'Magmortar',\n",
       " 'Magmar',\n",
       " 'Magikarp',\n",
       " 'Magcargo',\n",
       " 'Magby',\n",
       " 'Machop',\n",
       " 'Machoke',\n",
       " 'Machamp',\n",
       " 'Luxray',\n",
       " 'Luxio',\n",
       " 'Luvdisc',\n",
       " 'Lunatone',\n",
       " 'Lumineon',\n",
       " 'Lugia',\n",
       " 'Ludicolo',\n",
       " 'Lucario',\n",
       " 'Loudred',\n",
       " 'Lotad',\n",
       " 'Lopunny',\n",
       " 'Lombre',\n",
       " 'Litwick',\n",
       " 'Litleo',\n",
       " 'Linoone',\n",
       " 'Lillipup',\n",
       " 'Lilligant',\n",
       " 'Lileep',\n",
       " 'Liepard',\n",
       " 'Lickitung',\n",
       " 'Lickilicky',\n",
       " 'Ledyba',\n",
       " 'Ledian',\n",
       " 'Leavanny',\n",
       " 'Leafeon',\n",
       " 'Latios',\n",
       " 'Latias',\n",
       " 'Larvitar',\n",
       " 'Larvesta',\n",
       " 'Lapras',\n",
       " 'Lanturn',\n",
       " 'Landorus',\n",
       " 'Lampent',\n",
       " 'Lairon',\n",
       " 'Kyurem',\n",
       " 'Kyogre',\n",
       " 'Krookodile',\n",
       " 'Krokorok',\n",
       " 'Kricketune',\n",
       " 'Kricketot',\n",
       " 'Krabby',\n",
       " 'Koffing',\n",
       " 'Klinklang',\n",
       " 'Klink',\n",
       " 'Klefki',\n",
       " 'Klang',\n",
       " 'Kirlia',\n",
       " 'Kingler',\n",
       " 'Kingdra',\n",
       " 'Keldeo',\n",
       " 'Kecleon',\n",
       " 'Karrablast',\n",
       " 'Kangaskhan',\n",
       " 'Kakuna',\n",
       " 'Kadabra',\n",
       " 'Kabutops',\n",
       " 'Kabuto',\n",
       " 'Jynx',\n",
       " 'Jumpluff',\n",
       " 'Joltik',\n",
       " 'Jolteon',\n",
       " 'Jirachi',\n",
       " 'Jigglypuff',\n",
       " 'Jellicent',\n",
       " 'Ivysaur',\n",
       " 'Inkay',\n",
       " 'Infernape',\n",
       " 'Illumise',\n",
       " 'Igglybuff',\n",
       " 'Hypno',\n",
       " 'Hydreigon',\n",
       " 'Huntail',\n",
       " 'Houndour',\n",
       " 'Houndoom',\n",
       " 'Horsea',\n",
       " 'Hoppip',\n",
       " 'Hoothoot',\n",
       " 'Hoopa',\n",
       " 'Honedge',\n",
       " 'Honchkrow',\n",
       " 'Ho-oh',\n",
       " 'Hitmontop',\n",
       " 'Hitmonlee',\n",
       " 'Hitmonchan',\n",
       " 'Hippowdon',\n",
       " 'Hippopotas',\n",
       " 'Herdier',\n",
       " 'Heracross',\n",
       " 'Helioptile',\n",
       " 'Heliolisk',\n",
       " 'Heatran',\n",
       " 'Heatmor',\n",
       " 'Haxorus',\n",
       " 'Hawlucha',\n",
       " 'Haunter',\n",
       " 'Hariyama',\n",
       " 'Happiny',\n",
       " 'Gyarados',\n",
       " 'Gurdurr',\n",
       " 'Gulpin',\n",
       " 'Grumpig',\n",
       " 'Growlithe',\n",
       " 'Grovyle',\n",
       " 'Groudon',\n",
       " 'Grotle',\n",
       " 'Grimer',\n",
       " 'Greninja',\n",
       " 'Graveler',\n",
       " 'Granbull',\n",
       " 'Gourgeist',\n",
       " 'Gothorita',\n",
       " 'Gothitelle',\n",
       " 'Gothita',\n",
       " 'Gorebyss',\n",
       " 'Goomy',\n",
       " 'Goodra',\n",
       " 'Golurk',\n",
       " 'Golett',\n",
       " 'Golem',\n",
       " 'Golduck',\n",
       " 'Goldeen',\n",
       " 'Golbat',\n",
       " 'Gogoat',\n",
       " 'Gloom',\n",
       " 'Gliscor',\n",
       " 'Gligar',\n",
       " 'Glameow',\n",
       " 'Glalie',\n",
       " 'Glaceon',\n",
       " 'Giratina',\n",
       " 'Girafarig',\n",
       " 'Gigalith',\n",
       " 'Gible',\n",
       " 'Geodude',\n",
       " 'Gengar',\n",
       " 'Genesect',\n",
       " 'Gastrodon',\n",
       " 'Gastly',\n",
       " 'Gardevoir',\n",
       " 'Garchomp',\n",
       " 'Garbodor',\n",
       " 'Galvantula',\n",
       " 'Gallade',\n",
       " 'Gabite',\n",
       " 'Furret',\n",
       " 'Furfrou',\n",
       " 'Froslass',\n",
       " 'Frogadier',\n",
       " 'Froakie',\n",
       " 'Frillish',\n",
       " 'Fraxure',\n",
       " 'Forretress',\n",
       " 'Foongus',\n",
       " 'Flygon',\n",
       " 'Florges',\n",
       " 'Floette',\n",
       " 'Floatzel',\n",
       " 'Fletchling',\n",
       " 'Fletchinder',\n",
       " 'Flareon',\n",
       " 'Flabébé',\n",
       " 'Flaaffy',\n",
       " 'Finneon',\n",
       " 'Ferrothorn',\n",
       " 'Ferroseed',\n",
       " 'Feraligatr',\n",
       " 'Fennekin',\n",
       " 'Feebas',\n",
       " 'Fearow',\n",
       " \"Farfetch'd\",\n",
       " 'Exploud',\n",
       " 'Exeggutor',\n",
       " 'Exeggcute',\n",
       " 'Excadrill',\n",
       " 'Espurr',\n",
       " 'Espeon',\n",
       " 'Escavalier',\n",
       " 'Entei',\n",
       " 'Empoleon',\n",
       " 'Emolga',\n",
       " 'Emboar',\n",
       " 'Elgyem',\n",
       " 'Elekid',\n",
       " 'Electrode',\n",
       " 'Electrike',\n",
       " 'Electivire',\n",
       " 'Electabuzz',\n",
       " 'Ekans',\n",
       " 'Eevee',\n",
       " 'Eelektross',\n",
       " 'Eelektrik',\n",
       " 'Dwebble',\n",
       " 'Dustox',\n",
       " 'Duskull',\n",
       " 'Dusknoir',\n",
       " 'Dusclops',\n",
       " 'Durant',\n",
       " 'Duosion',\n",
       " 'Dunsparce',\n",
       " 'Dugtrio',\n",
       " 'Ducklett',\n",
       " 'Druddigon',\n",
       " 'Drowzee',\n",
       " 'Drilbur',\n",
       " 'Drifloon',\n",
       " 'Drifblim',\n",
       " 'Dratini',\n",
       " 'Drapion',\n",
       " 'Dragonite',\n",
       " 'Dragonair',\n",
       " 'Dragalge',\n",
       " 'Doublade',\n",
       " 'Donphan',\n",
       " 'Doduo',\n",
       " 'Dodrio',\n",
       " 'Ditto',\n",
       " 'Diglett',\n",
       " 'Diggersby',\n",
       " 'Diancie',\n",
       " 'Dialga',\n",
       " 'Dewott',\n",
       " 'Dewgong',\n",
       " 'Deoxys',\n",
       " 'Delphox',\n",
       " 'Delibird',\n",
       " 'Delcatty',\n",
       " 'Deino',\n",
       " 'Deerling',\n",
       " 'Dedenne',\n",
       " 'Darumaka',\n",
       " 'Darmanitan',\n",
       " 'Darkrai',\n",
       " 'Cyndaquil',\n",
       " 'Cubone',\n",
       " 'Cubchoo',\n",
       " 'Cryogonal',\n",
       " 'Crustle',\n",
       " 'Croconaw',\n",
       " 'Crobat',\n",
       " 'Croagunk',\n",
       " 'Cresselia',\n",
       " 'Crawdaunt',\n",
       " 'Cranidos',\n",
       " 'Cradily',\n",
       " 'Cottonee',\n",
       " 'Corsola',\n",
       " 'Corphish',\n",
       " 'Conkeldurr',\n",
       " 'Combusken',\n",
       " 'Combee',\n",
       " 'Cofagrigus',\n",
       " 'Cobalion',\n",
       " 'Cloyster',\n",
       " 'Cleffa',\n",
       " 'Clefairy',\n",
       " 'Clefable',\n",
       " 'Claydol',\n",
       " 'Clawitzer',\n",
       " 'Clauncher',\n",
       " 'Clamperl',\n",
       " 'Cinccino',\n",
       " 'Chingling',\n",
       " 'Chinchou',\n",
       " 'Chimecho',\n",
       " 'Chimchar',\n",
       " 'Chikorita',\n",
       " 'Chespin',\n",
       " 'Chesnaught',\n",
       " 'Cherubi',\n",
       " 'Cherrim',\n",
       " 'Chatot',\n",
       " 'Charmeleon',\n",
       " 'Charmander',\n",
       " 'Charizard',\n",
       " 'Chansey',\n",
       " 'Chandelure',\n",
       " 'Celebi',\n",
       " 'Caterpie',\n",
       " 'Castform',\n",
       " 'Cascoon',\n",
       " 'Carvanha',\n",
       " 'Carracosta',\n",
       " 'Carnivine',\n",
       " 'Carbink',\n",
       " 'Camerupt',\n",
       " 'Cacturne',\n",
       " 'Cacnea',\n",
       " 'Butterfree',\n",
       " 'Burmy',\n",
       " 'Bunnelby',\n",
       " 'Buneary',\n",
       " 'Bulbasaur',\n",
       " 'Buizel',\n",
       " 'Budew',\n",
       " 'Bronzor',\n",
       " 'Bronzong',\n",
       " 'Breloom',\n",
       " 'Braviary',\n",
       " 'Braixen',\n",
       " 'Bouffalant',\n",
       " 'Bonsly',\n",
       " 'Boldore',\n",
       " 'Blitzle',\n",
       " 'Blissey',\n",
       " 'Blaziken',\n",
       " 'Blastoise',\n",
       " 'Bisharp',\n",
       " 'Binacle',\n",
       " 'Bidoof',\n",
       " 'Bibarel',\n",
       " 'Bergmite',\n",
       " 'Bellsprout',\n",
       " 'Bellossom',\n",
       " 'Beldum',\n",
       " 'Beheeyem',\n",
       " 'Beedrill',\n",
       " 'Beautifly',\n",
       " 'Beartic',\n",
       " 'Bayleef',\n",
       " 'Bastiodon',\n",
       " 'Basculin',\n",
       " 'Barboach',\n",
       " 'Barbaracle',\n",
       " 'Banette',\n",
       " 'Baltoy',\n",
       " 'Bagon',\n",
       " 'Azurill',\n",
       " 'Azumarill',\n",
       " 'Azelf',\n",
       " 'Axew',\n",
       " 'Avalugg',\n",
       " 'Aurorus',\n",
       " 'Audino',\n",
       " 'Articuno',\n",
       " 'Aron',\n",
       " 'Aromatisse',\n",
       " 'Armaldo',\n",
       " 'Ariados',\n",
       " 'Archeops',\n",
       " 'Archen',\n",
       " 'Arceus',\n",
       " 'Arcanine',\n",
       " 'Arbok',\n",
       " 'Anorith',\n",
       " 'Ampharos',\n",
       " 'Amoonguss',\n",
       " 'Ambipom',\n",
       " 'Amaura',\n",
       " 'Altaria',\n",
       " 'Alomomola',\n",
       " 'Alakazam',\n",
       " 'Aipom',\n",
       " 'Aggron',\n",
       " 'Aerodactyl',\n",
       " 'Aegislash',\n",
       " 'Accelgor',\n",
       " 'Absol',\n",
       " 'Abra',\n",
       " 'Abomasnow']"
      ]
     },
     "execution_count": 3,
     "metadata": {},
     "output_type": "execute_result"
    }
   ],
   "source": [
    "sorted(pokemon,reverse=True)"
   ]
  },
  {
   "cell_type": "code",
   "execution_count": 4,
   "metadata": {},
   "outputs": [
    {
     "data": {
      "text/plain": [
       "459    Abomasnow\n",
       "62          Abra\n",
       "358        Absol\n",
       "616     Accelgor\n",
       "680    Aegislash\n",
       "         ...    \n",
       "570      Zoroark\n",
       "569        Zorua\n",
       "40         Zubat\n",
       "633     Zweilous\n",
       "717      Zygarde\n",
       "Name: Pokemon, Length: 721, dtype: object"
      ]
     },
     "execution_count": 4,
     "metadata": {},
     "output_type": "execute_result"
    }
   ],
   "source": [
    "sorted(pokemon,reverse=True)\n",
    "pokemon.sort_values()"
   ]
  },
  {
   "cell_type": "code",
   "execution_count": 5,
   "metadata": {},
   "outputs": [
    {
     "data": {
      "text/plain": [
       "717      Zygarde\n",
       "633     Zweilous\n",
       "40         Zubat\n",
       "569        Zorua\n",
       "570      Zoroark\n",
       "         ...    \n",
       "680    Aegislash\n",
       "616     Accelgor\n",
       "358        Absol\n",
       "62          Abra\n",
       "459    Abomasnow\n",
       "Name: Pokemon, Length: 721, dtype: object"
      ]
     },
     "execution_count": 5,
     "metadata": {},
     "output_type": "execute_result"
    }
   ],
   "source": [
    "pokemon.sort_values(ascending=False)"
   ]
  },
  {
   "cell_type": "code",
   "execution_count": 6,
   "metadata": {},
   "outputs": [
    {
     "data": {
      "text/plain": [
       "680    Aegislash\n",
       "616     Accelgor\n",
       "358        Absol\n",
       "62          Abra\n",
       "459    Abomasnow\n",
       "Name: Pokemon, dtype: object"
      ]
     },
     "execution_count": 6,
     "metadata": {},
     "output_type": "execute_result"
    }
   ],
   "source": [
    "pokemon.sort_values(ascending=False).tail()"
   ]
  },
  {
   "cell_type": "code",
   "execution_count": 10,
   "metadata": {},
   "outputs": [
    {
     "data": {
      "text/plain": [
       "717      Zygarde\n",
       "633     Zweilous\n",
       "40         Zubat\n",
       "569        Zorua\n",
       "570      Zoroark\n",
       "         ...    \n",
       "680    Aegislash\n",
       "616     Accelgor\n",
       "358        Absol\n",
       "62          Abra\n",
       "459    Abomasnow\n",
       "Name: Pokemon, Length: 721, dtype: object"
      ]
     },
     "execution_count": 10,
     "metadata": {},
     "output_type": "execute_result"
    }
   ],
   "source": [
    "pokemon.sort_values(ascending=False,inplace=False)"
   ]
  },
  {
   "cell_type": "code",
   "execution_count": 12,
   "metadata": {},
   "outputs": [
    {
     "data": {
      "text/plain": [
       "0       Bulbasaur\n",
       "1         Ivysaur\n",
       "2        Venusaur\n",
       "3      Charmander\n",
       "4      Charmeleon\n",
       "          ...    \n",
       "716       Yveltal\n",
       "717       Zygarde\n",
       "718       Diancie\n",
       "719         Hoopa\n",
       "720     Volcanion\n",
       "Name: Pokemon, Length: 721, dtype: object"
      ]
     },
     "execution_count": 12,
     "metadata": {},
     "output_type": "execute_result"
    }
   ],
   "source": [
    "pokemon.sort_index()"
   ]
  },
  {
   "cell_type": "code",
   "execution_count": 13,
   "metadata": {},
   "outputs": [],
   "source": [
    "mylist=[22,33,44, 55,66]"
   ]
  },
  {
   "cell_type": "code",
   "execution_count": 14,
   "metadata": {},
   "outputs": [
    {
     "data": {
      "text/plain": [
       "True"
      ]
     },
     "execution_count": 14,
     "metadata": {},
     "output_type": "execute_result"
    }
   ],
   "source": [
    "33 in mylist"
   ]
  },
  {
   "cell_type": "code",
   "execution_count": 16,
   "metadata": {},
   "outputs": [],
   "source": [
    "carlist=['aa','bb','ee','tt']"
   ]
  },
  {
   "cell_type": "code",
   "execution_count": 18,
   "metadata": {},
   "outputs": [
    {
     "data": {
      "text/plain": [
       "True"
      ]
     },
     "execution_count": 18,
     "metadata": {},
     "output_type": "execute_result"
    }
   ],
   "source": [
    "'ee' in carlist"
   ]
  },
  {
   "cell_type": "code",
   "execution_count": 19,
   "metadata": {},
   "outputs": [
    {
     "data": {
      "text/plain": [
       "array(['Zygarde', 'Zweilous', 'Zubat', 'Zorua', 'Zoroark', 'Zigzagoon',\n",
       "       'Zekrom', 'Zebstrika', 'Zapdos', 'Zangoose', 'Yveltal', 'Yanmega',\n",
       "       'Yanma', 'Yamask', 'Xerneas', 'Xatu', 'Wynaut', 'Wurmple',\n",
       "       'Wormadam', 'Wooper', 'Woobat', 'Wobbuffet', 'Wingull',\n",
       "       'Wigglytuff', 'Whismur', 'Whiscash', 'Whirlipede', 'Whimsicott',\n",
       "       'Weezing', 'Weepinbell', 'Weedle', 'Weavile', 'Watchog',\n",
       "       'Wartortle', 'Walrein', 'Wailord', 'Wailmer', 'Vulpix', 'Vullaby',\n",
       "       'Voltorb', 'Volcarona', 'Volcanion', 'Volbeat', 'Vivillon',\n",
       "       'Virizion', 'Vileplume', 'Vigoroth', 'Victreebel', 'Victini',\n",
       "       'Vibrava', 'Vespiquen', 'Venusaur', 'Venonat', 'Venomoth',\n",
       "       'Venipede', 'Vaporeon', 'Vanilluxe', 'Vanillite', 'Vanillish',\n",
       "       'Uxie', 'Ursaring', 'Unown', 'Unfezant', 'Umbreon', 'Tyrunt',\n",
       "       'Tyrogue', 'Tyrantrum', 'Tyranitar', 'Typhlosion', 'Tynamo',\n",
       "       'Tympole', 'Turtwig', 'Trubbish', 'Tropius', 'Trevenant',\n",
       "       'Treecko', 'Trapinch', 'Tranquill', 'Toxicroak', 'Totodile',\n",
       "       'Torterra', 'Tornadus', 'Torkoal', 'Torchic', 'Togetic', 'Togepi',\n",
       "       'Togekiss', 'Tirtouga', 'Timburr', 'Thundurus', 'Throh',\n",
       "       'Terrakion', 'Tepig', 'Tentacruel', 'Tentacool', 'Teddiursa',\n",
       "       'Tauros', 'Tangrowth', 'Tangela', 'Talonflame', 'Taillow',\n",
       "       'Sylveon', 'Swoobat', 'Swirlix', 'Swinub', 'Swellow', 'Swanna',\n",
       "       'Swampert', 'Swalot', 'Swadloon', 'Swablu', 'Surskit', 'Sunkern',\n",
       "       'Sunflora', 'Suicune', 'Sudowoodo', 'Stunky', 'Stunfisk',\n",
       "       'Stoutland', 'Steelix', 'Staryu', 'Starmie', 'Starly', 'Staravia',\n",
       "       'Staraptor', 'Stantler', 'Squirtle', 'Spritzee', 'Spoink',\n",
       "       'Spiritomb', 'Spinda', 'Spinarak', 'Spheal', 'Spewpa', 'Spearow',\n",
       "       'Solrock', 'Solosis', 'Snubbull', 'Snover', 'Snorunt', 'Snorlax',\n",
       "       'Snivy', 'Sneasel', 'Smoochum', 'Smeargle', 'Slurpuff', 'Slugma',\n",
       "       'Slowpoke', 'Slowking', 'Slowbro', 'Sliggoo', 'Slakoth', 'Slaking',\n",
       "       'Skuntank', 'Skrelp', 'Skorupi', 'Skitty', 'Skiploom', 'Skiddo',\n",
       "       'Skarmory', 'Simisear', 'Simisage', 'Simipour', 'Silcoon',\n",
       "       'Sigilyph', 'Shuppet', 'Shuckle', 'Shroomish', 'Shinx', 'Shiftry',\n",
       "       'Shieldon', 'Shelmet', 'Shellos', 'Shellder', 'Shelgon',\n",
       "       'Shedinja', 'Shaymin', 'Sharpedo', 'Sewaddle', 'Seviper',\n",
       "       'Servine', 'Serperior', 'Sentret', 'Seismitoad', 'Seel', 'Seedot',\n",
       "       'Sealeo', 'Seaking', 'Seadra', 'Scyther', 'Scraggy', 'Scrafty',\n",
       "       'Scolipede', 'Scizor', 'Sceptile', 'Scatterbug', 'Sawsbuck',\n",
       "       'Sawk', 'Sandslash', 'Sandshrew', 'Sandile', 'Samurott',\n",
       "       'Salamence', 'Sableye', 'Rufflet', 'Rotom', 'Roserade', 'Roselia',\n",
       "       'Roggenrola', 'Riolu', 'Rhyperior', 'Rhyhorn', 'Rhydon',\n",
       "       'Reuniclus', 'Reshiram', 'Remoraid', 'Relicanth', 'Registeel',\n",
       "       'Regirock', 'Regigigas', 'Regice', 'Rayquaza', 'Rattata',\n",
       "       'Raticate', 'Rapidash', 'Rampardos', 'Ralts', 'Raikou', 'Raichu',\n",
       "       'Qwilfish', 'Quilladin', 'Quilava', 'Quagsire', 'Pyroar',\n",
       "       'Purugly', 'Purrloin', 'Pupitar', 'Pumpkaboo', 'Psyduck',\n",
       "       'Probopass', 'Prinplup', 'Primeape', 'Porygon2', 'Porygon-Z',\n",
       "       'Porygon', 'Poochyena', 'Ponyta', 'Poliwrath', 'Poliwhirl',\n",
       "       'Poliwag', 'Politoed', 'Plusle', 'Piplup', 'Pinsir', 'Pineco',\n",
       "       'Piloswine', 'Pikachu', 'Pignite', 'Pidove', 'Pidgey', 'Pidgeotto',\n",
       "       'Pidgeot', 'Pichu', 'Phione', 'Phantump', 'Phanpy', 'Petilil',\n",
       "       'Persian', 'Pelipper', 'Pawniard', 'Patrat', 'Parasect', 'Paras',\n",
       "       'Pansear', 'Pansage', 'Panpour', 'Pangoro', 'Pancham', 'Palpitoad',\n",
       "       'Palkia', 'Pachirisu', 'Oshawott', 'Onix', 'Omastar', 'Omanyte',\n",
       "       'Oddish', 'Octillery', 'Nuzleaf', 'Numel', 'Nosepass', 'Noivern',\n",
       "       'Noibat', 'Noctowl', 'Ninjask', 'Ninetales', 'Nincada', 'Nidorino',\n",
       "       'Nidorina', 'Nidoran♂', 'Nidoran', 'Nidoqueen', 'Nidoking', 'Natu',\n",
       "       'Musharna', 'Murkrow', 'Munna', 'Munchlax', 'Muk', 'Mudkip',\n",
       "       'Mr. Mime', 'Mothim', 'Monferno', 'Moltres', 'Mismagius',\n",
       "       'Misdreavus', 'Minun', 'Minccino', 'Mime Jr.', 'Miltank',\n",
       "       'Milotic', 'Mightyena', 'Mienshao', 'Mienfoo', 'Mewtwo', 'Mew',\n",
       "       'Metapod', 'Metang', 'Metagross', 'Mesprit', 'Meowth', 'Meowstic',\n",
       "       'Meloetta', 'Meganium', 'Meditite', 'Medicham', 'Mawile',\n",
       "       'Masquerain', 'Marshtomp', 'Marowak', 'Marill', 'Mareep',\n",
       "       'Maractus', 'Mantyke', 'Mantine', 'Mankey', 'Manectric',\n",
       "       'Mandibuzz', 'Manaphy', 'Mamoswine', 'Malamar', 'Makuhita',\n",
       "       'Magnezone', 'Magneton', 'Magnemite', 'Magmortar', 'Magmar',\n",
       "       'Magikarp', 'Magcargo', 'Magby', 'Machop', 'Machoke', 'Machamp',\n",
       "       'Luxray', 'Luxio', 'Luvdisc', 'Lunatone', 'Lumineon', 'Lugia',\n",
       "       'Ludicolo', 'Lucario', 'Loudred', 'Lotad', 'Lopunny', 'Lombre',\n",
       "       'Litwick', 'Litleo', 'Linoone', 'Lillipup', 'Lilligant', 'Lileep',\n",
       "       'Liepard', 'Lickitung', 'Lickilicky', 'Ledyba', 'Ledian',\n",
       "       'Leavanny', 'Leafeon', 'Latios', 'Latias', 'Larvitar', 'Larvesta',\n",
       "       'Lapras', 'Lanturn', 'Landorus', 'Lampent', 'Lairon', 'Kyurem',\n",
       "       'Kyogre', 'Krookodile', 'Krokorok', 'Kricketune', 'Kricketot',\n",
       "       'Krabby', 'Koffing', 'Klinklang', 'Klink', 'Klefki', 'Klang',\n",
       "       'Kirlia', 'Kingler', 'Kingdra', 'Keldeo', 'Kecleon', 'Karrablast',\n",
       "       'Kangaskhan', 'Kakuna', 'Kadabra', 'Kabutops', 'Kabuto', 'Jynx',\n",
       "       'Jumpluff', 'Joltik', 'Jolteon', 'Jirachi', 'Jigglypuff',\n",
       "       'Jellicent', 'Ivysaur', 'Inkay', 'Infernape', 'Illumise',\n",
       "       'Igglybuff', 'Hypno', 'Hydreigon', 'Huntail', 'Houndour',\n",
       "       'Houndoom', 'Horsea', 'Hoppip', 'Hoothoot', 'Hoopa', 'Honedge',\n",
       "       'Honchkrow', 'Ho-oh', 'Hitmontop', 'Hitmonlee', 'Hitmonchan',\n",
       "       'Hippowdon', 'Hippopotas', 'Herdier', 'Heracross', 'Helioptile',\n",
       "       'Heliolisk', 'Heatran', 'Heatmor', 'Haxorus', 'Hawlucha',\n",
       "       'Haunter', 'Hariyama', 'Happiny', 'Gyarados', 'Gurdurr', 'Gulpin',\n",
       "       'Grumpig', 'Growlithe', 'Grovyle', 'Groudon', 'Grotle', 'Grimer',\n",
       "       'Greninja', 'Graveler', 'Granbull', 'Gourgeist', 'Gothorita',\n",
       "       'Gothitelle', 'Gothita', 'Gorebyss', 'Goomy', 'Goodra', 'Golurk',\n",
       "       'Golett', 'Golem', 'Golduck', 'Goldeen', 'Golbat', 'Gogoat',\n",
       "       'Gloom', 'Gliscor', 'Gligar', 'Glameow', 'Glalie', 'Glaceon',\n",
       "       'Giratina', 'Girafarig', 'Gigalith', 'Gible', 'Geodude', 'Gengar',\n",
       "       'Genesect', 'Gastrodon', 'Gastly', 'Gardevoir', 'Garchomp',\n",
       "       'Garbodor', 'Galvantula', 'Gallade', 'Gabite', 'Furret', 'Furfrou',\n",
       "       'Froslass', 'Frogadier', 'Froakie', 'Frillish', 'Fraxure',\n",
       "       'Forretress', 'Foongus', 'Flygon', 'Florges', 'Floette',\n",
       "       'Floatzel', 'Fletchling', 'Fletchinder', 'Flareon', 'Flabébé',\n",
       "       'Flaaffy', 'Finneon', 'Ferrothorn', 'Ferroseed', 'Feraligatr',\n",
       "       'Fennekin', 'Feebas', 'Fearow', \"Farfetch'd\", 'Exploud',\n",
       "       'Exeggutor', 'Exeggcute', 'Excadrill', 'Espurr', 'Espeon',\n",
       "       'Escavalier', 'Entei', 'Empoleon', 'Emolga', 'Emboar', 'Elgyem',\n",
       "       'Elekid', 'Electrode', 'Electrike', 'Electivire', 'Electabuzz',\n",
       "       'Ekans', 'Eevee', 'Eelektross', 'Eelektrik', 'Dwebble', 'Dustox',\n",
       "       'Duskull', 'Dusknoir', 'Dusclops', 'Durant', 'Duosion',\n",
       "       'Dunsparce', 'Dugtrio', 'Ducklett', 'Druddigon', 'Drowzee',\n",
       "       'Drilbur', 'Drifloon', 'Drifblim', 'Dratini', 'Drapion',\n",
       "       'Dragonite', 'Dragonair', 'Dragalge', 'Doublade', 'Donphan',\n",
       "       'Doduo', 'Dodrio', 'Ditto', 'Diglett', 'Diggersby', 'Diancie',\n",
       "       'Dialga', 'Dewott', 'Dewgong', 'Deoxys', 'Delphox', 'Delibird',\n",
       "       'Delcatty', 'Deino', 'Deerling', 'Dedenne', 'Darumaka',\n",
       "       'Darmanitan', 'Darkrai', 'Cyndaquil', 'Cubone', 'Cubchoo',\n",
       "       'Cryogonal', 'Crustle', 'Croconaw', 'Crobat', 'Croagunk',\n",
       "       'Cresselia', 'Crawdaunt', 'Cranidos', 'Cradily', 'Cottonee',\n",
       "       'Corsola', 'Corphish', 'Conkeldurr', 'Combusken', 'Combee',\n",
       "       'Cofagrigus', 'Cobalion', 'Cloyster', 'Cleffa', 'Clefairy',\n",
       "       'Clefable', 'Claydol', 'Clawitzer', 'Clauncher', 'Clamperl',\n",
       "       'Cinccino', 'Chingling', 'Chinchou', 'Chimecho', 'Chimchar',\n",
       "       'Chikorita', 'Chespin', 'Chesnaught', 'Cherubi', 'Cherrim',\n",
       "       'Chatot', 'Charmeleon', 'Charmander', 'Charizard', 'Chansey',\n",
       "       'Chandelure', 'Celebi', 'Caterpie', 'Castform', 'Cascoon',\n",
       "       'Carvanha', 'Carracosta', 'Carnivine', 'Carbink', 'Camerupt',\n",
       "       'Cacturne', 'Cacnea', 'Butterfree', 'Burmy', 'Bunnelby', 'Buneary',\n",
       "       'Bulbasaur', 'Buizel', 'Budew', 'Bronzor', 'Bronzong', 'Breloom',\n",
       "       'Braviary', 'Braixen', 'Bouffalant', 'Bonsly', 'Boldore',\n",
       "       'Blitzle', 'Blissey', 'Blaziken', 'Blastoise', 'Bisharp',\n",
       "       'Binacle', 'Bidoof', 'Bibarel', 'Bergmite', 'Bellsprout',\n",
       "       'Bellossom', 'Beldum', 'Beheeyem', 'Beedrill', 'Beautifly',\n",
       "       'Beartic', 'Bayleef', 'Bastiodon', 'Basculin', 'Barboach',\n",
       "       'Barbaracle', 'Banette', 'Baltoy', 'Bagon', 'Azurill', 'Azumarill',\n",
       "       'Azelf', 'Axew', 'Avalugg', 'Aurorus', 'Audino', 'Articuno',\n",
       "       'Aron', 'Aromatisse', 'Armaldo', 'Ariados', 'Archeops', 'Archen',\n",
       "       'Arceus', 'Arcanine', 'Arbok', 'Anorith', 'Ampharos', 'Amoonguss',\n",
       "       'Ambipom', 'Amaura', 'Altaria', 'Alomomola', 'Alakazam', 'Aipom',\n",
       "       'Aggron', 'Aerodactyl', 'Aegislash', 'Accelgor', 'Absol', 'Abra',\n",
       "       'Abomasnow'], dtype=object)"
      ]
     },
     "execution_count": 19,
     "metadata": {},
     "output_type": "execute_result"
    }
   ],
   "source": [
    "pokemon.values"
   ]
  },
  {
   "cell_type": "code",
   "execution_count": 20,
   "metadata": {},
   "outputs": [
    {
     "data": {
      "text/plain": [
       "Int64Index([717, 633,  40, 569, 570, 262, 643, 522, 144, 334,\n",
       "            ...\n",
       "            593,  64, 189, 305, 141, 680, 616, 358,  62, 459],\n",
       "           dtype='int64', length=721)"
      ]
     },
     "execution_count": 20,
     "metadata": {},
     "output_type": "execute_result"
    }
   ],
   "source": [
    "pokemon.index"
   ]
  },
  {
   "cell_type": "code",
   "execution_count": 21,
   "metadata": {},
   "outputs": [
    {
     "data": {
      "text/plain": [
       "pandas.core.indexes.numeric.Int64Index"
      ]
     },
     "execution_count": 21,
     "metadata": {},
     "output_type": "execute_result"
    }
   ],
   "source": [
    "type(pokemon.index)"
   ]
  },
  {
   "cell_type": "code",
   "execution_count": 23,
   "metadata": {},
   "outputs": [
    {
     "data": {
      "text/plain": [
       "pandas.core.series.Series"
      ]
     },
     "execution_count": 23,
     "metadata": {},
     "output_type": "execute_result"
    }
   ],
   "source": [
    "type(pokemon)"
   ]
  },
  {
   "cell_type": "code",
   "execution_count": 24,
   "metadata": {},
   "outputs": [
    {
     "data": {
      "text/plain": [
       "717      Zygarde\n",
       "633     Zweilous\n",
       "40         Zubat\n",
       "569        Zorua\n",
       "570      Zoroark\n",
       "         ...    \n",
       "680    Aegislash\n",
       "616     Accelgor\n",
       "358        Absol\n",
       "62          Abra\n",
       "459    Abomasnow\n",
       "Name: Pokemon, Length: 721, dtype: object"
      ]
     },
     "execution_count": 24,
     "metadata": {},
     "output_type": "execute_result"
    }
   ],
   "source": [
    "pokemon"
   ]
  },
  {
   "cell_type": "code",
   "execution_count": 26,
   "metadata": {},
   "outputs": [
    {
     "data": {
      "text/plain": [
       "'Zygarde'"
      ]
     },
     "execution_count": 26,
     "metadata": {},
     "output_type": "execute_result"
    }
   ],
   "source": []
  },
  {
   "cell_type": "markdown",
   "metadata": {},
   "source": [
    "# Indexing and Slicings\n",
    "#[start:stop:step]"
   ]
  },
  {
   "cell_type": "code",
   "execution_count": 27,
   "metadata": {},
   "outputs": [
    {
     "data": {
      "text/plain": [
       "'Zygarde'"
      ]
     },
     "execution_count": 27,
     "metadata": {},
     "output_type": "execute_result"
    }
   ],
   "source": [
    "pokemon [717]"
   ]
  },
  {
   "cell_type": "code",
   "execution_count": 30,
   "metadata": {},
   "outputs": [
    {
     "data": {
      "text/plain": [
       "717    Zygarde\n",
       "40       Zubat\n",
       "570    Zoroark\n",
       "643     Zekrom\n",
       "Name: Pokemon, dtype: object"
      ]
     },
     "execution_count": 30,
     "metadata": {},
     "output_type": "execute_result"
    }
   ],
   "source": [
    "pokemon[0:7:2]"
   ]
  },
  {
   "cell_type": "code",
   "execution_count": null,
   "metadata": {},
   "outputs": [],
   "source": []
  },
  {
   "cell_type": "code",
   "execution_count": 29,
   "metadata": {},
   "outputs": [
    {
     "data": {
      "text/plain": [
       "0       Bulbasaur\n",
       "1         Ivysaur\n",
       "2        Venusaur\n",
       "3      Charmander\n",
       "4      Charmeleon\n",
       "          ...    \n",
       "716       Yveltal\n",
       "717       Zygarde\n",
       "718       Diancie\n",
       "719         Hoopa\n",
       "720     Volcanion\n",
       "Name: Pokemon, Length: 721, dtype: object"
      ]
     },
     "execution_count": 29,
     "metadata": {},
     "output_type": "execute_result"
    }
   ],
   "source": [
    "pokemon.sort_index()"
   ]
  },
  {
   "cell_type": "code",
   "execution_count": 31,
   "metadata": {},
   "outputs": [
    {
     "data": {
      "text/plain": [
       "415    Vespiquen\n",
       "2       Venusaur\n",
       "47       Venonat\n",
       "48      Venomoth\n",
       "542     Venipede\n",
       "         ...    \n",
       "680    Aegislash\n",
       "616     Accelgor\n",
       "358        Absol\n",
       "62          Abra\n",
       "459    Abomasnow\n",
       "Name: Pokemon, Length: 671, dtype: object"
      ]
     },
     "execution_count": 31,
     "metadata": {},
     "output_type": "execute_result"
    }
   ],
   "source": [
    "pokemon[50:]"
   ]
  },
  {
   "cell_type": "code",
   "execution_count": 32,
   "metadata": {},
   "outputs": [
    {
     "data": {
      "text/plain": [
       "717       Zygarde\n",
       "633      Zweilous\n",
       "40          Zubat\n",
       "569         Zorua\n",
       "570       Zoroark\n",
       "262     Zigzagoon\n",
       "643        Zekrom\n",
       "522     Zebstrika\n",
       "144        Zapdos\n",
       "334      Zangoose\n",
       "716       Yveltal\n",
       "468       Yanmega\n",
       "192         Yanma\n",
       "561        Yamask\n",
       "715       Xerneas\n",
       "177          Xatu\n",
       "359        Wynaut\n",
       "264       Wurmple\n",
       "412      Wormadam\n",
       "193        Wooper\n",
       "526        Woobat\n",
       "201     Wobbuffet\n",
       "277       Wingull\n",
       "39     Wigglytuff\n",
       "292       Whismur\n",
       "339      Whiscash\n",
       "543    Whirlipede\n",
       "546    Whimsicott\n",
       "109       Weezing\n",
       "69     Weepinbell\n",
       "12         Weedle\n",
       "460       Weavile\n",
       "504       Watchog\n",
       "7       Wartortle\n",
       "364       Walrein\n",
       "320       Wailord\n",
       "319       Wailmer\n",
       "36         Vulpix\n",
       "628       Vullaby\n",
       "99        Voltorb\n",
       "Name: Pokemon, dtype: object"
      ]
     },
     "execution_count": 32,
     "metadata": {},
     "output_type": "execute_result"
    }
   ],
   "source": [
    "pokemon.head(40)"
   ]
  },
  {
   "cell_type": "code",
   "execution_count": 35,
   "metadata": {},
   "outputs": [
    {
     "data": {
      "text/plain": [
       "10    Metapod\n",
       "12     Weedle\n",
       "15     Pidgey\n",
       "Name: Pokemon, dtype: object"
      ]
     },
     "execution_count": 35,
     "metadata": {},
     "output_type": "execute_result"
    }
   ],
   "source": [
    "pokemon[[10,12,15]]"
   ]
  },
  {
   "cell_type": "code",
   "execution_count": 36,
   "metadata": {},
   "outputs": [
    {
     "data": {
      "text/plain": [
       "717      Zygarde\n",
       "633     Zweilous\n",
       "40         Zubat\n",
       "569        Zorua\n",
       "570      Zoroark\n",
       "         ...    \n",
       "680    Aegislash\n",
       "616     Accelgor\n",
       "358        Absol\n",
       "62          Abra\n",
       "459    Abomasnow\n",
       "Name: Pokemon, Length: 721, dtype: object"
      ]
     },
     "execution_count": 36,
     "metadata": {},
     "output_type": "execute_result"
    }
   ],
   "source": [
    "pokemon"
   ]
  },
  {
   "cell_type": "code",
   "execution_count": 37,
   "metadata": {},
   "outputs": [
    {
     "ename": "KeyError",
     "evalue": "'Zorua'",
     "output_type": "error",
     "traceback": [
      "\u001b[1;31m---------------------------------------------------------------------------\u001b[0m",
      "\u001b[1;31mKeyError\u001b[0m                                  Traceback (most recent call last)",
      "\u001b[1;32m<ipython-input-37-77982e1bdc23>\u001b[0m in \u001b[0;36m<module>\u001b[1;34m\u001b[0m\n\u001b[1;32m----> 1\u001b[1;33m \u001b[0mpokemon\u001b[0m\u001b[1;33m[\u001b[0m\u001b[1;34m'Zorua'\u001b[0m\u001b[1;33m]\u001b[0m\u001b[1;33m\u001b[0m\u001b[1;33m\u001b[0m\u001b[0m\n\u001b[0m",
      "\u001b[1;32m~\\Anaconda3\\lib\\site-packages\\pandas\\core\\series.py\u001b[0m in \u001b[0;36m__getitem__\u001b[1;34m(self, key)\u001b[0m\n\u001b[0;32m    869\u001b[0m         \u001b[0mkey\u001b[0m \u001b[1;33m=\u001b[0m \u001b[0mcom\u001b[0m\u001b[1;33m.\u001b[0m\u001b[0mapply_if_callable\u001b[0m\u001b[1;33m(\u001b[0m\u001b[0mkey\u001b[0m\u001b[1;33m,\u001b[0m \u001b[0mself\u001b[0m\u001b[1;33m)\u001b[0m\u001b[1;33m\u001b[0m\u001b[1;33m\u001b[0m\u001b[0m\n\u001b[0;32m    870\u001b[0m         \u001b[1;32mtry\u001b[0m\u001b[1;33m:\u001b[0m\u001b[1;33m\u001b[0m\u001b[1;33m\u001b[0m\u001b[0m\n\u001b[1;32m--> 871\u001b[1;33m             \u001b[0mresult\u001b[0m \u001b[1;33m=\u001b[0m \u001b[0mself\u001b[0m\u001b[1;33m.\u001b[0m\u001b[0mindex\u001b[0m\u001b[1;33m.\u001b[0m\u001b[0mget_value\u001b[0m\u001b[1;33m(\u001b[0m\u001b[0mself\u001b[0m\u001b[1;33m,\u001b[0m \u001b[0mkey\u001b[0m\u001b[1;33m)\u001b[0m\u001b[1;33m\u001b[0m\u001b[1;33m\u001b[0m\u001b[0m\n\u001b[0m\u001b[0;32m    872\u001b[0m \u001b[1;33m\u001b[0m\u001b[0m\n\u001b[0;32m    873\u001b[0m             \u001b[1;32mif\u001b[0m \u001b[1;32mnot\u001b[0m \u001b[0mis_scalar\u001b[0m\u001b[1;33m(\u001b[0m\u001b[0mresult\u001b[0m\u001b[1;33m)\u001b[0m\u001b[1;33m:\u001b[0m\u001b[1;33m\u001b[0m\u001b[1;33m\u001b[0m\u001b[0m\n",
      "\u001b[1;32m~\\Anaconda3\\lib\\site-packages\\pandas\\core\\indexes\\base.py\u001b[0m in \u001b[0;36mget_value\u001b[1;34m(self, series, key)\u001b[0m\n\u001b[0;32m   4403\u001b[0m         \u001b[0mk\u001b[0m \u001b[1;33m=\u001b[0m \u001b[0mself\u001b[0m\u001b[1;33m.\u001b[0m\u001b[0m_convert_scalar_indexer\u001b[0m\u001b[1;33m(\u001b[0m\u001b[0mk\u001b[0m\u001b[1;33m,\u001b[0m \u001b[0mkind\u001b[0m\u001b[1;33m=\u001b[0m\u001b[1;34m\"getitem\"\u001b[0m\u001b[1;33m)\u001b[0m\u001b[1;33m\u001b[0m\u001b[1;33m\u001b[0m\u001b[0m\n\u001b[0;32m   4404\u001b[0m         \u001b[1;32mtry\u001b[0m\u001b[1;33m:\u001b[0m\u001b[1;33m\u001b[0m\u001b[1;33m\u001b[0m\u001b[0m\n\u001b[1;32m-> 4405\u001b[1;33m             \u001b[1;32mreturn\u001b[0m \u001b[0mself\u001b[0m\u001b[1;33m.\u001b[0m\u001b[0m_engine\u001b[0m\u001b[1;33m.\u001b[0m\u001b[0mget_value\u001b[0m\u001b[1;33m(\u001b[0m\u001b[0ms\u001b[0m\u001b[1;33m,\u001b[0m \u001b[0mk\u001b[0m\u001b[1;33m,\u001b[0m \u001b[0mtz\u001b[0m\u001b[1;33m=\u001b[0m\u001b[0mgetattr\u001b[0m\u001b[1;33m(\u001b[0m\u001b[0mseries\u001b[0m\u001b[1;33m.\u001b[0m\u001b[0mdtype\u001b[0m\u001b[1;33m,\u001b[0m \u001b[1;34m\"tz\"\u001b[0m\u001b[1;33m,\u001b[0m \u001b[1;32mNone\u001b[0m\u001b[1;33m)\u001b[0m\u001b[1;33m)\u001b[0m\u001b[1;33m\u001b[0m\u001b[1;33m\u001b[0m\u001b[0m\n\u001b[0m\u001b[0;32m   4406\u001b[0m         \u001b[1;32mexcept\u001b[0m \u001b[0mKeyError\u001b[0m \u001b[1;32mas\u001b[0m \u001b[0me1\u001b[0m\u001b[1;33m:\u001b[0m\u001b[1;33m\u001b[0m\u001b[1;33m\u001b[0m\u001b[0m\n\u001b[0;32m   4407\u001b[0m             \u001b[1;32mif\u001b[0m \u001b[0mlen\u001b[0m\u001b[1;33m(\u001b[0m\u001b[0mself\u001b[0m\u001b[1;33m)\u001b[0m \u001b[1;33m>\u001b[0m \u001b[1;36m0\u001b[0m \u001b[1;32mand\u001b[0m \u001b[1;33m(\u001b[0m\u001b[0mself\u001b[0m\u001b[1;33m.\u001b[0m\u001b[0mholds_integer\u001b[0m\u001b[1;33m(\u001b[0m\u001b[1;33m)\u001b[0m \u001b[1;32mor\u001b[0m \u001b[0mself\u001b[0m\u001b[1;33m.\u001b[0m\u001b[0mis_boolean\u001b[0m\u001b[1;33m(\u001b[0m\u001b[1;33m)\u001b[0m\u001b[1;33m)\u001b[0m\u001b[1;33m:\u001b[0m\u001b[1;33m\u001b[0m\u001b[1;33m\u001b[0m\u001b[0m\n",
      "\u001b[1;32mpandas\\_libs\\index.pyx\u001b[0m in \u001b[0;36mpandas._libs.index.IndexEngine.get_value\u001b[1;34m()\u001b[0m\n",
      "\u001b[1;32mpandas\\_libs\\index.pyx\u001b[0m in \u001b[0;36mpandas._libs.index.IndexEngine.get_value\u001b[1;34m()\u001b[0m\n",
      "\u001b[1;32mpandas\\_libs\\index.pyx\u001b[0m in \u001b[0;36mpandas._libs.index.IndexEngine.get_loc\u001b[1;34m()\u001b[0m\n",
      "\u001b[1;32mpandas\\_libs\\index_class_helper.pxi\u001b[0m in \u001b[0;36mpandas._libs.index.Int64Engine._check_type\u001b[1;34m()\u001b[0m\n",
      "\u001b[1;31mKeyError\u001b[0m: 'Zorua'"
     ]
    }
   ],
   "source": [
    "pokemon['Zorua']"
   ]
  },
  {
   "cell_type": "code",
   "execution_count": 38,
   "metadata": {},
   "outputs": [],
   "source": [
    "pokemon=pd.read_csv('pokemon.csv',index_col=['Pokemon'],squeeze=True)"
   ]
  },
  {
   "cell_type": "code",
   "execution_count": 44,
   "metadata": {},
   "outputs": [
    {
     "data": {
      "text/plain": [
       "'Fire'"
      ]
     },
     "execution_count": 44,
     "metadata": {},
     "output_type": "execute_result"
    }
   ],
   "source": [
    "pokemon[3]\n"
   ]
  },
  {
   "cell_type": "code",
   "execution_count": null,
   "metadata": {},
   "outputs": [],
   "source": []
  },
  {
   "cell_type": "code",
   "execution_count": null,
   "metadata": {},
   "outputs": [],
   "source": []
  },
  {
   "cell_type": "code",
   "execution_count": null,
   "metadata": {},
   "outputs": [],
   "source": []
  },
  {
   "cell_type": "code",
   "execution_count": null,
   "metadata": {},
   "outputs": [],
   "source": []
  },
  {
   "cell_type": "code",
   "execution_count": null,
   "metadata": {},
   "outputs": [],
   "source": []
  },
  {
   "cell_type": "code",
   "execution_count": null,
   "metadata": {},
   "outputs": [],
   "source": []
  },
  {
   "cell_type": "code",
   "execution_count": null,
   "metadata": {},
   "outputs": [],
   "source": []
  },
  {
   "cell_type": "code",
   "execution_count": null,
   "metadata": {},
   "outputs": [],
   "source": []
  },
  {
   "cell_type": "code",
   "execution_count": null,
   "metadata": {},
   "outputs": [],
   "source": []
  },
  {
   "cell_type": "code",
   "execution_count": null,
   "metadata": {},
   "outputs": [],
   "source": []
  },
  {
   "cell_type": "code",
   "execution_count": null,
   "metadata": {},
   "outputs": [],
   "source": []
  },
  {
   "cell_type": "code",
   "execution_count": null,
   "metadata": {},
   "outputs": [],
   "source": []
  },
  {
   "cell_type": "code",
   "execution_count": null,
   "metadata": {},
   "outputs": [],
   "source": []
  }
 ],
 "metadata": {
  "kernelspec": {
   "display_name": "Python 3",
   "language": "python",
   "name": "python3"
  },
  "language_info": {
   "codemirror_mode": {
    "name": "ipython",
    "version": 3
   },
   "file_extension": ".py",
   "mimetype": "text/x-python",
   "name": "python",
   "nbconvert_exporter": "python",
   "pygments_lexer": "ipython3",
   "version": "3.7.6"
  }
 },
 "nbformat": 4,
 "nbformat_minor": 4
}
